{
 "cells": [
  {
   "cell_type": "code",
   "execution_count": 1,
   "metadata": {},
   "outputs": [
    {
     "name": "stderr",
     "output_type": "stream",
     "text": [
      "Using TensorFlow backend.\n"
     ]
    }
   ],
   "source": [
    "import cv2\n",
    "import numpy as np"
   ]
  },
  {
   "cell_type": "code",
   "execution_count": 6,
   "metadata": {},
   "outputs": [],
   "source": [
    "name=[\"BroadLeaf\",\"Grass\",\"Soil\",\"Soyabean\"]\n",
    "img=cv2.imread(\"image/1.tif\")\n",
    "img=cv2.cvtColor(img,cv2.COLOR_BGR2RGB)\n",
    "img=cv2.resize(img,(128,128))\n",
    "x=np.expand_dims(img,axis=0)\n",
    "pred=model.predict_classes(x)\n",
    "p=pred[0]\n",
    "plt.imshow(img)\n",
    "plt.title(name[p])\n",
    "plt.show() \n",
    "video = cv2.VideoCapture(0)\n",
    "while(video.isOpened()):\n",
    "    sucess,frame=video.read()\n",
    "    if sucess==True:\n",
    "        frame=cv2.cvtColor(frame,cv2.COLOR_BGR2RGB)\n",
    "        mainf=cv2.resize(frame,(128,128))\n",
    "        x=np.expand_dims(mainf,axis=0)\n",
    "        pred=model.predict_classes(x)\n",
    "        p=pred[0]\n",
    "        cv2.putText(frame,name[p],(100,100),cv2.FONT_HERSHEY_SIMPLEX,2,(255,0,0),2)\n",
    "        cv2.imshow(\"image\",frame)\n",
    "        if cv2.waitKey(25) & 0xFF == ord('q'):\n",
    "            break\n",
    "video.release()\n",
    "cv2.destroyAllWindows()"
   ]
  },
  {
   "cell_type": "code",
   "execution_count": null,
   "metadata": {},
   "outputs": [],
   "source": []
  }
 ],
 "metadata": {
  "kernelspec": {
   "display_name": "Python 3",
   "language": "python",
   "name": "python3"
  },
  "language_info": {
   "codemirror_mode": {
    "name": "ipython",
    "version": 3
   },
   "file_extension": ".py",
   "mimetype": "text/x-python",
   "name": "python",
   "nbconvert_exporter": "python",
   "pygments_lexer": "ipython3",
   "version": "3.7.1"
  }
 },
 "nbformat": 4,
 "nbformat_minor": 2
}
